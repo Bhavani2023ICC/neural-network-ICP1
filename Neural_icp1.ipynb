{
  "nbformat": 4,
  "nbformat_minor": 0,
  "metadata": {
    "colab": {
      "provenance": []
    },
    "kernelspec": {
      "name": "python3",
      "display_name": "Python 3"
    },
    "language_info": {
      "name": "python"
    }
  },
  "cells": [
    {
      "cell_type": "markdown",
      "source": [
        "1.Write a program that takes two strings from the user: first_name, last_name. Pass these variables to fullname function that should return the (full name).\n",
        "o For example: ▪ First_name = “your first name”,\n",
        " last_name = “your last name”\n",
        " ▪ Full_name = “your full name”\n",
        "  o Write function named “string_alternative” that returns every other char in the full_name string.\n",
        "  Str = “Good evening”\n",
        "  Output: Go vnn Note:\n",
        "  You need to create a function named “string_alternative” for this program and call it from main function."
      ],
      "metadata": {
        "id": "gjI5JtG_6ym7"
      }
    },
    {
      "cell_type": "code",
      "source": [
        "def fullname(FirstName,LastName):\n",
        "    return FirstName+\" \"+LastName\n",
        "\n",
        "def string_alternative(FullName):\n",
        "    return FullName[::2]#returns every other character in the string\n",
        "def main():\n",
        "    FirstName=input(\"Enter your First Name:\")\n",
        "    LastName=input(\"Enter your Last Name:\")\n",
        "\n",
        "    FullName=fullname(FirstName,LastName)#fullname\n",
        "    alternative_string=string_alternative(FullName)#alternate string\n",
        "   #results\n",
        "    print(f\"Full Name: {FullName}\")\n",
        "    print(f\"String Alternative: {alternative_string}\")\n",
        "\n",
        "# Calling the main function\n",
        "if __name__ == \"__main__\":\n",
        "    main()"
      ],
      "metadata": {
        "colab": {
          "base_uri": "https://localhost:8080/"
        },
        "id": "QVAZu7v96lTo",
        "outputId": "245d5261-8b9a-4485-977f-2cb01925d41f"
      },
      "execution_count": 11,
      "outputs": [
        {
          "output_type": "stream",
          "name": "stdout",
          "text": [
            "Enter your First Name:bhavani\n",
            "Enter your Last Name:bhimavaram\n",
            "Full Name: bhavani bhimavaram\n",
            "String Alternative: baaibiaaa\n"
          ]
        }
      ]
    },
    {
      "cell_type": "markdown",
      "source": [
        "2. Write a python program to find the wordcount in a file (input.txt) for each line and then print the output.\n",
        "o Finally store the output in output.txt file.\n",
        "Example:\n",
        "Input: a file includes two lines:\n",
        "Python Course\n",
        "Deep Learning Course\n",
        "Output:\n",
        "Python Course\n",
        "Deep Learning Course\n",
        "Word_Count:\n",
        "Python: 1\n",
        "Course: 2\n",
        "Deep: 1\n",
        "Learning: 1"
      ],
      "metadata": {
        "id": "Bzvjcrlv6mWi"
      }
    },
    {
      "cell_type": "code",
      "execution_count": 12,
      "metadata": {
        "colab": {
          "base_uri": "https://localhost:8080/"
        },
        "id": "mhlfqYZY5QIC",
        "outputId": "9094983d-2294-489d-f638-0d2079ce89a9"
      },
      "outputs": [
        {
          "output_type": "stream",
          "name": "stdout",
          "text": [
            "Drive already mounted at /content/drive; to attempt to forcibly remount, call drive.mount(\"/content/drive\", force_remount=True).\n",
            "Output written to /content/drive/MyDrive/output.txt\n"
          ]
        }
      ],
      "source": [
        "from google.colab import drive\n",
        "drive.mount('/content/drive')\n",
        "#defining the paths\n",
        "input_path = '/content/drive/MyDrive/input.txt'\n",
        "output_path = '/content/drive/MyDrive/output.txt'\n",
        "#counting words and writing the output\n",
        "def count_words(input_path, output_path):\n",
        "    try:\n",
        "        with open(input_path, 'r') as file:#open and read the output file\n",
        "            text = file.read()\n",
        "            words = text.split()#split the text into individual words\n",
        "            word_count = len(words)#count the total number of words\n",
        "           #counting the word frequencies\n",
        "            word_counts = {}\n",
        "            for word in words:\n",
        "                if word in word_counts:\n",
        "                    word_counts[word] += 1\n",
        "                else:\n",
        "                    word_counts[word] = 1\n",
        "            #writing the results to the output file\n",
        "            with open(output_path, 'w') as out_file:\n",
        "                out_file.write(\"Word counts:\\n\")\n",
        "                for word, count in word_counts.items():\n",
        "                    out_file.write(f\"{word}: {count}\\n\")\n",
        "\n",
        "            print(f\"Output written to {output_path}\")\n",
        "\n",
        "    except FileNotFoundError:\n",
        "        print(f\"Error: The file '{input_path}' was not found.\")\n",
        "\n",
        "count_words(input_path, output_path)"
      ]
    },
    {
      "cell_type": "markdown",
      "source": [
        "3. Write a program, which reads heights (inches.) of customers into a list and convert these\n",
        "heights to centimeters in a separate list using:\n",
        "1) Nested Interactive loop.\n",
        "2) List comprehensions\n",
        "Example: L1: [150,155, 145, 148]\n",
        "Output: [68.03, 70.3, 65.77, 67.13]"
      ],
      "metadata": {
        "id": "xnAj8qPU7EJG"
      }
    },
    {
      "cell_type": "code",
      "source": [
        "def convert_heights_nested_loop(heights_in_inches):\n",
        "    heights_in_cm = []\n",
        "    for height in heights_in_inches:\n",
        "        # Convert height to centimeters\n",
        "        height_cm = round(height * 2.54, 2)\n",
        "        heights_in_cm.append(height_cm)\n",
        "    return heights_in_cm\n",
        "\n",
        "def main():\n",
        "    # Taking user input for heights in inches in the format [150, 155, 145, 148]\n",
        "    heights_input = input(\"Enter heights in inches (e.g., [150, 155, 145, 148]): \")\n",
        "\n",
        "    # Convert the input string to a list of integers\n",
        "    heights_in_inches = list(map(int, heights_input.strip('[]').split(',')))\n",
        "\n",
        "    # Convert heights using nested interactive loop\n",
        "    heights_in_cm_nested_loop = convert_heights_nested_loop(heights_in_inches)\n",
        "\n",
        "    # Print the results\n",
        "    print(f\"Heights in Inches: {heights_in_inches}\")\n",
        "    print(f\"Converted Heights in Centimeters (Nested Loop): {heights_in_cm_nested_loop}\")\n",
        "\n",
        "if __name__ == \"__main__\":\n",
        "    main()\n"
      ],
      "metadata": {
        "colab": {
          "base_uri": "https://localhost:8080/"
        },
        "id": "5h-bRfcB7_iq",
        "outputId": "6ceefd27-38e3-463a-8848-eb6ecef8b212"
      },
      "execution_count": 13,
      "outputs": [
        {
          "output_type": "stream",
          "name": "stdout",
          "text": [
            "Enter heights in inches (e.g., [150, 155, 145, 148]): 150,155,145,148\n",
            "Heights in Inches: [150, 155, 145, 148]\n",
            "Converted Heights in Centimeters (Nested Loop): [381.0, 393.7, 368.3, 375.92]\n"
          ]
        }
      ]
    },
    {
      "cell_type": "code",
      "source": [
        "def convert_heights_list_comprehension(heights_in_inches):\n",
        "    # Convert heights to centimeters using list comprehension\n",
        "    return [round(height * 2.54, 2) for height in heights_in_inches]\n",
        "\n",
        "def main():\n",
        "    # Taking user input for heights in inches in the format [150, 155, 145, 148]\n",
        "    heights_input = input(\"Enter heights in inches (e.g., [150, 155, 145, 148]): \")\n",
        "\n",
        "    # Convert the input string to a list of integers\n",
        "    heights_in_inches = list(map(int, heights_input.strip('[]').split(',')))\n",
        "\n",
        "    # Convert heights using list comprehension\n",
        "    heights_in_cm_list_comprehension = convert_heights_list_comprehension(heights_in_inches)\n",
        "\n",
        "    # Print the results\n",
        "    print(f\"Heights in Inches: {heights_in_inches}\")\n",
        "    print(f\"Converted Heights in Centimeters (List Comprehension): {heights_in_cm_list_comprehension}\")\n",
        "\n",
        "if __name__ == \"__main__\":\n",
        "    main()\n"
      ],
      "metadata": {
        "colab": {
          "base_uri": "https://localhost:8080/"
        },
        "id": "zrEBPLvx97YM",
        "outputId": "1c44722b-1f3f-46f9-964b-995451cda8ea"
      },
      "execution_count": 14,
      "outputs": [
        {
          "output_type": "stream",
          "name": "stdout",
          "text": [
            "Enter heights in inches (e.g., [150, 155, 145, 148]): 150,155,145,148\n",
            "Heights in Inches: [150, 155, 145, 148]\n",
            "Converted Heights in Centimeters (List Comprehension): [381.0, 393.7, 368.3, 375.92]\n"
          ]
        }
      ]
    }
  ]
}